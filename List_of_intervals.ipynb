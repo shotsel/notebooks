{
 "cells": [
  {
   "cell_type": "code",
   "execution_count": null,
   "metadata": {},
   "outputs": [],
   "source": [
    "\"\"\"\n",
    "Given a list of sequential numbers, write a function to convert the given list into list of intervals.\n",
    ":param sequence\n",
    ":return intervals\n",
    "\n",
    "e.g.\n",
    "Input : [2, 3, 4, 5, 7, 8, 9, 15, 16]\n",
    "Output : [[2, 5], [7, 9], [15, 16]]\n",
    "\n",
    "Input : [1, 2, 3, 6, 7, 8, 9, 10]\n",
    "Output : [[1, 3], [6, 10]]\n",
    "\"\"\"\n"
   ]
  },
  {
   "cell_type": "code",
   "execution_count": 1,
   "metadata": {},
   "outputs": [
    {
     "data": {
      "text/plain": [
       "[[1, 3], [6, 10]]"
      ]
     },
     "execution_count": 1,
     "metadata": {},
     "output_type": "execute_result"
    }
   ],
   "source": [
    "def fcn(list): \n",
    "    list = sorted(set(list)) \n",
    "    range_start = previous_number = list[0] \n",
    "    res = []\n",
    "    for number in list[1:]: \n",
    "        if number == previous_number + 1: \n",
    "            previous_number = number \n",
    "        else: \n",
    "            res.append([range_start, previous_number])\n",
    "            range_start = previous_number = number \n",
    "    res.append([range_start, previous_number])      \n",
    "    return res \n"
   ]
  },
  {
   "cell_type": "code",
   "execution_count": 2,
   "metadata": {},
   "outputs": [
    {
     "name": "stderr",
     "output_type": "stream",
     "text": [
      "..\n",
      "----------------------------------------------------------------------\n",
      "Ran 2 tests in 0.005s\n",
      "\n",
      "OK\n"
     ]
    }
   ],
   "source": [
    "import unittest\n",
    "\n",
    "\n",
    "class TestIntervals(unittest.TestCase):\n",
    "\n",
    "    def test_1(self):\n",
    "        example = [2, 3, 4, 5, 7, 8, 9, 15, 16]\n",
    "        result = [[2, 5], [7, 9], [15, 16]]\n",
    "        \n",
    "        self.assertEqual(fcn(example), result)\n",
    "\n",
    "    def test_2(self):\n",
    "        example = [1, 2, 3, 6, 7, 8, 9, 10]\n",
    "        result = [[1, 3], [6, 10]]\n",
    "        \n",
    "        self.assertEqual(fcn(example), result)\n",
    "        \n",
    "\n",
    "if __name__ == '__main__':\n",
    "    unittest.main(argv=['first-arg-is-ignored'], exit=False)"
   ]
  },
  {
   "cell_type": "code",
   "execution_count": null,
   "metadata": {},
   "outputs": [],
   "source": []
  }
 ],
 "metadata": {
  "kernelspec": {
   "display_name": "Python 3",
   "language": "python",
   "name": "python3"
  },
  "language_info": {
   "codemirror_mode": {
    "name": "ipython",
    "version": 3
   },
   "file_extension": ".py",
   "mimetype": "text/x-python",
   "name": "python",
   "nbconvert_exporter": "python",
   "pygments_lexer": "ipython3",
   "version": "3.8.0"
  }
 },
 "nbformat": 4,
 "nbformat_minor": 2
}
