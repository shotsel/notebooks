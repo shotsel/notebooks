{
 "cells": [
  {
   "cell_type": "code",
   "execution_count": null,
   "metadata": {},
   "outputs": [],
   "source": [
    "\"\"\"\n",
    "Write a function that takes as input X,Y positions of two boxes and returns their intersection over union.\n",
    "\n",
    ":param boxA = [x1, y1, x2, y2]\n",
    ":param boxB = [x1, y1, x2, y2]\n",
    ":return iou\n",
    "\"\"\""
   ]
  },
  {
   "cell_type": "markdown",
   "metadata": {},
   "source": [
    "![Two boxes](https://www.pyimagesearch.com/wp-content/uploads/2016/09/iou_stop_sign.jpg)"
   ]
  },
  {
   "cell_type": "markdown",
   "metadata": {},
   "source": [
    "![IoU](https://raw.githubusercontent.com/rafaelpadilla/Object-Detection-Metrics/master/aux_images/iou.png)"
   ]
  },
  {
   "cell_type": "code",
   "execution_count": 12,
   "metadata": {},
   "outputs": [
    {
     "data": {
      "text/plain": [
       "0.7957712638154734"
      ]
     },
     "execution_count": 12,
     "metadata": {},
     "output_type": "execute_result"
    }
   ],
   "source": [
    "def get_iou(boxA, boxB):\n",
    "    # determine the (x, y)-coordinates of the intersection rectangle\n",
    "    xA = max(boxA[0], boxB[0])\n",
    "    yA = max(boxA[1], boxB[1])\n",
    "    xB = min(boxA[2], boxB[2])\n",
    "    yB = min(boxA[3], boxB[3])\n",
    "\n",
    "    # compute the area of intersection rectangle\n",
    "    interArea = (xB - xA) * (yB - yA)\n",
    "\n",
    "    # compute the area of both the prediction and ground-truth\n",
    "    # rectangles\n",
    "    boxAArea = (boxA[2] - boxA[0]) * (boxA[3] - boxA[1])\n",
    "    boxBArea = (boxB[2] - boxB[0]) * (boxB[3] - boxB[1])\n",
    "\n",
    "    # compute the intersection over union by taking the intersection\n",
    "    # area and dividing it by the sum of prediction + ground-truth\n",
    "    # areas - the interesection area\n",
    "    iou = interArea / float(boxAArea + boxBArea - interArea)\n",
    "\n",
    "    # return the intersection over union value\n",
    "    return iou\n",
    "\n",
    "example = ([39, 63, 203, 112], [54, 66, 198, 114])\n",
    "result = 0.7980093676814989\n",
    "get_iou(example[0], example[1])"
   ]
  },
  {
   "cell_type": "code",
   "execution_count": 18,
   "metadata": {},
   "outputs": [
    {
     "name": "stderr",
     "output_type": "stream",
     "text": [
      "F.FF\n",
      "======================================================================\n",
      "FAIL: test_falsepositive (__main__.TestIoU)\n",
      "----------------------------------------------------------------------\n",
      "Traceback (most recent call last):\n",
      "  File \"<ipython-input-18-24d06b444730>\", line 15, in test_falsepositive\n",
      "    self.assertEqual(get_iou(example[0], example[1]), 0)\n",
      "AssertionError: 0.5139372822299652 != 0\n",
      "\n",
      "======================================================================\n",
      "FAIL: test_zerodivision (__main__.TestIoU)\n",
      "----------------------------------------------------------------------\n",
      "Traceback (most recent call last):\n",
      "  File \"<ipython-input-18-24d06b444730>\", line 25, in test_zerodivision\n",
      "    self.assertEqual(get_iou(example[0], example[1]), 0)\n",
      "AssertionError: -1.0 != 0\n",
      "\n",
      "======================================================================\n",
      "FAIL: test_zerodivision_raise (__main__.TestIoU)\n",
      "----------------------------------------------------------------------\n",
      "Traceback (most recent call last):\n",
      "  File \"<ipython-input-18-24d06b444730>\", line 20, in test_zerodivision_raise\n",
      "    self.assertRaises(ZeroDivisionError, get_iou,example[0], example[1])\n",
      "AssertionError: ZeroDivisionError not raised by get_iou\n",
      "\n",
      "----------------------------------------------------------------------\n",
      "Ran 4 tests in 0.006s\n",
      "\n",
      "FAILED (failures=3)\n"
     ]
    }
   ],
   "source": [
    "import unittest\n",
    "\n",
    "\n",
    "class TestIoU(unittest.TestCase):\n",
    "\n",
    "    def test_truepositive(self):\n",
    "        example = ([39, 63, 203, 112], [54, 66, 198, 114])\n",
    "        result = 0.7980093676814989\n",
    "        \n",
    "        self.assertEqual(round(get_iou(example[0], example[1]), 2), round(result, 2))\n",
    "\n",
    "    def test_falsepositive(self):\n",
    "        example = ([39, 63, 203, 112], [90, 73, 20, 14])\n",
    "        result = 0\n",
    "        self.assertEqual(get_iou(example[0], example[1]), 0)\n",
    "    \n",
    "    def test_zerodivision_raise(self):\n",
    "        example = ([1, 1, 1, 1], [0, 0, 0, 0])\n",
    "        \n",
    "        self.assertRaises(ZeroDivisionError, get_iou,example[0], example[1])\n",
    "        self.assertEqual(get_iou(example[0], example[1]), 0)\n",
    "        \n",
    "    def test_zerodivision(self):\n",
    "        example = ([1, 1, 1, 1], [0, 0, 0, 0])        \n",
    "        self.assertEqual(get_iou(example[0], example[1]), 0)\n",
    "\n",
    "if __name__ == '__main__':\n",
    "    unittest.main(argv=['first-arg-is-ignored'], exit=False)\n"
   ]
  },
  {
   "cell_type": "code",
   "execution_count": null,
   "metadata": {},
   "outputs": [],
   "source": []
  }
 ],
 "metadata": {
  "kernelspec": {
   "display_name": "Python 3",
   "language": "python",
   "name": "python3"
  },
  "language_info": {
   "codemirror_mode": {
    "name": "ipython",
    "version": 3
   },
   "file_extension": ".py",
   "mimetype": "text/x-python",
   "name": "python",
   "nbconvert_exporter": "python",
   "pygments_lexer": "ipython3",
   "version": "3.8.0"
  }
 },
 "nbformat": 4,
 "nbformat_minor": 2
}
